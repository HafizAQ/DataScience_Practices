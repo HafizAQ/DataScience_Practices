{
  "nbformat": 4,
  "nbformat_minor": 0,
  "metadata": {
    "colab": {
      "provenance": [],
      "authorship_tag": "ABX9TyO3revY956HO9uup4XV9LP0",
      "include_colab_link": true
    },
    "kernelspec": {
      "name": "python3",
      "display_name": "Python 3"
    },
    "language_info": {
      "name": "python"
    }
  },
  "cells": [
    {
      "cell_type": "markdown",
      "metadata": {
        "id": "view-in-github",
        "colab_type": "text"
      },
      "source": [
        "<a href=\"https://colab.research.google.com/github/HafizAQ/DataScience_Practices/blob/main/Introduction_to_Linear_Algebrat_for_Applied_ML_with_Python.ipynb\" target=\"_parent\"><img src=\"https://colab.research.google.com/assets/colab-badge.svg\" alt=\"Open In Colab\"/></a>"
      ]
    },
    {
      "cell_type": "markdown",
      "source": [
        "#Introduction to Linear Algebra for Applied Machine Learning with Python\n",
        "\n",
        "Source: https://pabloinsente.github.io/intro-linear-algebra"
      ],
      "metadata": {
        "id": "No7IbJxMpKf6"
      }
    },
    {
      "cell_type": "code",
      "execution_count": null,
      "metadata": {
        "id": "p6dCfnG4o5Xr"
      },
      "outputs": [],
      "source": []
    }
  ]
}